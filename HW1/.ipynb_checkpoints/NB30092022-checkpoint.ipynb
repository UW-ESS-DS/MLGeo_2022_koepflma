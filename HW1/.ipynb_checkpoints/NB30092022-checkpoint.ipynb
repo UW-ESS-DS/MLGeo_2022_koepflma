{
 "cells": [
  {
   "cell_type": "markdown",
   "id": "0f6accf4-61bc-4423-98c0-aab17da7c96f",
   "metadata": {},
   "source": [
    "# First Jupyter Notebook\n",
    "Autor: Manuela Köpfli <br>\n",
    "Contact: koepflma@uw.edu"
   ]
  },
  {
   "cell_type": "markdown",
   "id": "10db560a-6b61-4b24-9b2d-3ab8e316ed62",
   "metadata": {},
   "source": [
    "## Table of Content\n",
    "- [1D Functions](#1D_Functions)\n",
    "- [2D Functions](#2D_Functions)"
   ]
  },
  {
   "cell_type": "markdown",
   "id": "bff1021d-4dbb-4b4a-8ca8-7e7c4647ae45",
   "metadata": {},
   "source": [
    "<a id='1D_Functions'></a>\n",
    "### 1D Functions"
   ]
  },
  {
   "cell_type": "markdown",
   "id": "837cf6b9-e905-4932-a581-a4713149a116",
   "metadata": {},
   "source": [
    "This piece of code plots two random 1D fungtions, a linear and a non-linear."
   ]
  },
  {
   "cell_type": "code",
   "execution_count": 2,
   "id": "ae18e330-0bb2-4e52-a00c-044720f2ae3f",
   "metadata": {},
   "outputs": [],
   "source": [
    "# import all modules for the notebook\n",
    "import numpy as np\n",
    "import matplotlib.pyplot as plt\n",
    "import matplotlib.colors as colors"
   ]
  },
  {
   "cell_type": "code",
   "execution_count": 3,
   "id": "62a8befd-f039-4375-affd-e8ac9bb3e02a",
   "metadata": {},
   "outputs": [],
   "source": [
    "# define the parameters\n",
    "x = np.arange(10)\n",
    "P = np.pi"
   ]
  },
  {
   "cell_type": "code",
   "execution_count": 4,
   "id": "05a24089-3114-4f36-bdf0-54e5fa45520f",
   "metadata": {},
   "outputs": [
    {
     "name": "stdout",
     "output_type": "stream",
     "text": [
      "P is float with the value 3.14.\n",
      "x is numpy.ndarray with the length 10 and includes the values [0 1 2 3 4 5 6 7 8 9].\n"
     ]
    }
   ],
   "source": [
    "# print something about defined variables\n",
    "print('P is {} with the value {}.'.format(str(type(P))[8:-2:],round(P,2)))\n",
    "print('x is {} with the length {} and includes the values {}.'.format(str(type(x))[8:-2:],len(x), x))"
   ]
  },
  {
   "cell_type": "code",
   "execution_count": 5,
   "id": "d917831d-bb4e-472b-ad2b-1f54a549e7da",
   "metadata": {},
   "outputs": [],
   "source": [
    "# define functions\n",
    "# define a simple linear function\n",
    "def linear(x,pi):\n",
    "    return(x*pi*(3/4)+1)\n",
    "\n",
    "# define a simple non-linear function\n",
    "def non_linear(x,pi):\n",
    "    return(x**2*pi*(3/4)+x**(1/2)-10)"
   ]
  },
  {
   "cell_type": "code",
   "execution_count": 6,
   "id": "f7efc9f2-6ccf-4531-9ef7-101f9a1223b9",
   "metadata": {},
   "outputs": [
    {
     "data": {
      "text/plain": [
       "<matplotlib.legend.Legend at 0x7f3c70d811f0>"
      ]
     },
     "execution_count": 6,
     "metadata": {},
     "output_type": "execute_result"
    },
    {
     "data": {
      "image/png": "[encoded data removed]",
      "text/plain": [
       "<Figure size 432x288 with 1 Axes>"
      ]
     },
     "metadata": {
      "needs_background": "light"
     },
     "output_type": "display_data"
    }
   ],
   "source": [
    "plt.plot(linear(x,P), label='linear f(x)') # plot the linear function and label it\n",
    "plt.plot(non_linear(x,P), label='non-linear f(x)') # plot the non-linear function and label it\n",
    "plt.xlim(min(x),max(x)) # define the limits of the x-axis\n",
    "# plt.ylim(min(x),max(x)) # define the limits of the y-axis\n",
    "plt.title('Functions with $\\pi$') # Title of the plot\n",
    "plt.xlabel('index') # Label of the x-axis\n",
    "plt.ylabel('f(x)') # Label of the y-axis\n",
    "plt.grid(True) # make grid visible\n",
    "plt.legend() # show the legende\n",
    "#plt.savefig('1Dfigure.png', dpi=80) # save figure, string is the name and dpi the resolution"
   ]
  },
  {
   "cell_type": "markdown",
   "id": "570cc290-e56a-4882-9047-7d5dfb1e0671",
   "metadata": {},
   "source": [
    "<a id='2D_Functions'></a>\n",
    "### 2D Function"
   ]
  },
  {
   "cell_type": "markdown",
   "id": "de23cafe-444f-4f67-b1e3-c48940411471",
   "metadata": {},
   "source": [
    "This part shows a 2D function."
   ]
  },
  {
   "cell_type": "code",
   "execution_count": 7,
   "id": "35c516c3-95c9-4006-9489-78c1a951ec48",
   "metadata": {},
   "outputs": [],
   "source": [
    "# define more variables\n",
    "y = np.arange(10,20)"
   ]
  },
  {
   "cell_type": "code",
   "execution_count": 8,
   "id": "e55dc46a-c699-41cf-92b1-d82f1869e1fc",
   "metadata": {},
   "outputs": [
    {
     "name": "stdout",
     "output_type": "stream",
     "text": [
      "y is numpy.ndarray with the length 10 and includes the values [10 11 12 13 14 15 16 17 18 19].\n"
     ]
    }
   ],
   "source": [
    "# print something about defined variables\n",
    "print('y is {} with the length {} and includes the values {}.'.format(str(type(y))[8:-2:],len(y), y))"
   ]
  },
  {
   "cell_type": "code",
   "execution_count": 9,
   "id": "7fec6f9f-b740-4efb-8694-4bbf528b2bd2",
   "metadata": {},
   "outputs": [
    {
     "name": "stdout",
     "output_type": "stream",
     "text": [
      "[[0 1 2 3 4 5 6 7 8 9]\n",
      " [0 1 2 3 4 5 6 7 8 9]\n",
      " [0 1 2 3 4 5 6 7 8 9]\n",
      " [0 1 2 3 4 5 6 7 8 9]\n",
      " [0 1 2 3 4 5 6 7 8 9]\n",
      " [0 1 2 3 4 5 6 7 8 9]\n",
      " [0 1 2 3 4 5 6 7 8 9]\n",
      " [0 1 2 3 4 5 6 7 8 9]\n",
      " [0 1 2 3 4 5 6 7 8 9]\n",
      " [0 1 2 3 4 5 6 7 8 9]] [[10 10 10 10 10 10 10 10 10 10]\n",
      " [11 11 11 11 11 11 11 11 11 11]\n",
      " [12 12 12 12 12 12 12 12 12 12]\n",
      " [13 13 13 13 13 13 13 13 13 13]\n",
      " [14 14 14 14 14 14 14 14 14 14]\n",
      " [15 15 15 15 15 15 15 15 15 15]\n",
      " [16 16 16 16 16 16 16 16 16 16]\n",
      " [17 17 17 17 17 17 17 17 17 17]\n",
      " [18 18 18 18 18 18 18 18 18 18]\n",
      " [19 19 19 19 19 19 19 19 19 19]]\n"
     ]
    }
   ],
   "source": [
    "# create two matrices\n",
    "xx, yy = np.meshgrid(x,y)\n",
    "# and print the matrices\n",
    "print(xx, yy)"
   ]
  },
  {
   "cell_type": "code",
   "execution_count": 10,
   "id": "09250713-c517-4ef2-9d8a-082cdf526464",
   "metadata": {},
   "outputs": [],
   "source": [
    "# define the new function\n",
    "def multidim(xx, yy, pi):\n",
    "    matrix = xx**2*pi+1e2*yy**(1/2)\n",
    "    return(matrix)"
   ]
  },
  {
   "cell_type": "code",
   "execution_count": 11,
   "id": "2a641579-364c-4e69-9f40-58206444e5cf",
   "metadata": {},
   "outputs": [
    {
     "data": {
      "text/plain": [
       "Text(0, 0.5, 'index')"
      ]
     },
     "execution_count": 11,
     "metadata": {},
     "output_type": "execute_result"
    },
    {
     "data": {
      "image/png": "[encoded data removed]",
      "text/plain": [
       "<Figure size 432x288 with 2 Axes>"
      ]
     },
     "metadata": {
      "needs_background": "light"
     },
     "output_type": "display_data"
    }
   ],
   "source": [
    "# plot the new function\n",
    "pmc = plt.pcolormesh(multidim(xx, yy, P))\n",
    "plt.colorbar(pmc)\n",
    "plt.title('2D Functions with $\\pi$') # Title of the plot\n",
    "plt.xlabel('index') # Label of the x-axis\n",
    "plt.ylabel('index') # Label of the y-axis\n",
    "#plt.savefig('2Dfigure.png', dpi=80) # save figure, string is the name and dpi the resolution"
   ]
  },
  {
   "cell_type": "markdown",
   "id": "4d0aaf85-a975-4f85-81cc-d88f738817a5",
   "metadata": {},
   "source": [
    "### My Python Skills"
   ]
  },
  {
   "cell_type": "markdown",
   "id": "6bfd49d4-efc0-4f83-80f8-2843299725c0",
   "metadata": {},
   "source": [
    "So far, I have used python mainly for seismic data interpretation. For this, I mainly need the packages obspy and pandas. Pandas allow a simple and clear presentation of time series and obspy provides all classical pre- and post-processing functions for seismic data. Scikit I also know, but I have only used this package to train and test an already existing model. I worked with random forests and tried to detect debris flows and rock falls. I noticed how sensitive the algorithm reacts to the training data set. Unfortunately, I could not figure out how to make my algorithm less sensitive to individual events in the training dataset. The output with a selected training data set turned out to be acceptable. <br>\n",
    "\n",
    "With the plotter, it is difficult to summarize the skills. I am able to create some simple plots and know how to find the commands on the internet that I keep forgetting. Since you often plot time series in seismology, I must admit that I often struggle with the different time formats. <br>\n",
    "\n",
    "What I am very bad at is programming memory efficiently. On the other hand, parallelizing is somewhat familiar to me."
   ]
  },
  {
   "cell_type": "code",
   "execution_count": null,
   "id": "76b9d42c-885b-4d6c-b527-9ba9f3353f18",
   "metadata": {},
   "outputs": [],
   "source": []
  }
 ],
 "metadata": {
  "kernelspec": {
   "display_name": "Python 3 (ipykernel)",
   "language": "python",
   "name": "python3"
  },
  "language_info": {
   "codemirror_mode": {
    "name": "ipython",
    "version": 3
   },
   "file_extension": ".py",
   "mimetype": "text/x-python",
   "name": "python",
   "nbconvert_exporter": "python",
   "pygments_lexer": "ipython3",
   "version": "3.9.13"
  }
 },
 "nbformat": 4,
 "nbformat_minor": 5
}
