{
 "cells": [
  {
   "cell_type": "markdown",
   "id": "0f6accf4-61bc-4423-98c0-aab17da7c96f",
   "metadata": {},
   "source": [
    "# First Jupyter Notebook\n",
    "Autor: Manuela Köpfli <br>\n",
    "Contact: koepflma@uw.edu"
   ]
  },
  {
   "cell_type": "markdown",
   "id": "10db560a-6b61-4b24-9b2d-3ab8e316ed62",
   "metadata": {},
   "source": [
    "## Table of Content\n",
    "- [1D Functions](#1D_Functions)\n",
    "- [2D Functions](#2D_Functions)\n",
    "- [My Python Skills](#Py_Skills)"
   ]
  },
  {
   "cell_type": "markdown",
   "id": "bff1021d-4dbb-4b4a-8ca8-7e7c4647ae45",
   "metadata": {},
   "source": [
    "<a id='1D_Functions'></a>\n",
    "### 1D Functions"
   ]
  },
  {
   "cell_type": "markdown",
   "id": "837cf6b9-e905-4932-a581-a4713149a116",
   "metadata": {},
   "source": [
    "This piece of code plots two random 1D fungtions, a linear and a non-linear."
   ]
  },
  {
   "cell_type": "code",
   "execution_count": 1,
   "id": "ae18e330-0bb2-4e52-a00c-044720f2ae3f",
   "metadata": {},
   "outputs": [],
   "source": [
    "# import all modules for the notebook\n",
    "import numpy as np\n",
    "import matplotlib.pyplot as plt\n",
    "import matplotlib.colors as colors"
   ]
  },
  {
   "cell_type": "code",
   "execution_count": 2,
   "id": "62a8befd-f039-4375-affd-e8ac9bb3e02a",
   "metadata": {},
   "outputs": [],
   "source": [
    "# define the parameters\n",
    "x = np.arange(10)\n",
    "P = np.pi"
   ]
  },
  {
   "cell_type": "code",
   "execution_count": 3,
   "id": "05a24089-3114-4f36-bdf0-54e5fa45520f",
   "metadata": {},
   "outputs": [
    {
     "name": "stdout",
     "output_type": "stream",
     "text": [
      "P is float with the value 3.14.\n",
      "x is numpy.ndarray with the length 10 and includes the values [0 1 2 3 4 5 6 7 8 9].\n"
     ]
    }
   ],
   "source": [
    "# print something about defined variables\n",
    "print('P is {} with the value {}.'.format(str(type(P))[8:-2:],round(P,2)))\n",
    "print('x is {} with the length {} and includes the values {}.'.format(str(type(x))[8:-2:],len(x), x))"
   ]
  },
  {
   "cell_type": "code",
   "execution_count": 4,
   "id": "d917831d-bb4e-472b-ad2b-1f54a549e7da",
   "metadata": {},
   "outputs": [],
   "source": [
    "# define functions\n",
    "# define a simple linear function\n",
    "def linear(x,pi):\n",
    "    return(x*pi*(3/4)+1)\n",
    "\n",
    "# define a simple non-linear function\n",
    "def non_linear(x,pi):\n",
    "    return(x**2*pi*(3/4)+x**(1/2)-10)"
   ]
  },
  {
   "cell_type": "code",
   "execution_count": 8,
   "id": "f7efc9f2-6ccf-4531-9ef7-101f9a1223b9",
   "metadata": {},
   "outputs": [
    {
     "data": {
      "text/plain": [
       "<matplotlib.legend.Legend at 0x7f905ae21b20>"
      ]
     },
     "execution_count": 8,
     "metadata": {},
     "output_type": "execute_result"
    },
    {
     "data": {
      "image/png": "[encoded data removed]",
      "text/plain": [
       "<Figure size 432x288 with 1 Axes>"
      ]
     },
     "metadata": {
      "needs_background": "light"
     },
     "output_type": "display_data"
    }
   ],
   "source": [
    "plt.plot(linear(x,P), label='linear f(x)') # plot the linear function and label it\n",
    "plt.plot(non_linear(x,P), label='non-linear f(x)') # plot the non-linear function and label it\n",
    "plt.xlim(min(x),max(x)) # define the limits of the x-axis\n",
    "# plt.ylim(min(x),max(x)) # define the limits of the y-axis\n",
    "plt.title('Functions with $\\pi$', fontsize=18) # Title of the plot\n",
    "plt.xlabel('index', fontsize=12) # Label of the x-axis\n",
    "plt.ylabel('f(x)', fontsize=12) # Label of the y-axis\n",
    "plt.grid(True) # make grid visible\n",
    "plt.legend(fontsize=10) # show the legende\n",
    "#plt.savefig('1Dfigure.png', dpi=80) # save figure, string is the name and dpi the resolution"
   ]
  },
  {
   "cell_type": "markdown",
   "id": "570cc290-e56a-4882-9047-7d5dfb1e0671",
   "metadata": {},
   "source": [
    "<a id='2D_Functions'></a>\n",
    "### 2D Function"
   ]
  },
  {
   "cell_type": "markdown",
   "id": "de23cafe-444f-4f67-b1e3-c48940411471",
   "metadata": {},
   "source": [
    "This part shows a 2D function."
   ]
  },
  {
   "cell_type": "code",
   "execution_count": 23,
   "id": "35c516c3-95c9-4006-9489-78c1a951ec48",
   "metadata": {},
   "outputs": [],
   "source": [
    "# define more variables\n",
    "y = np.arange(10,20+1)"
   ]
  },
  {
   "cell_type": "code",
   "execution_count": 24,
   "id": "e55dc46a-c699-41cf-92b1-d82f1869e1fc",
   "metadata": {},
   "outputs": [
    {
     "name": "stdout",
     "output_type": "stream",
     "text": [
      "y is numpy.ndarray with the length 11 and includes the values [10 11 12 13 14 15 16 17 18 19 20].\n"
     ]
    }
   ],
   "source": [
    "# print something about defined variables\n",
    "print('y is {} with the length {} and includes the values {}.'.format(str(type(y))[8:-2:],len(y), y))"
   ]
  },
  {
   "cell_type": "code",
   "execution_count": 25,
   "id": "7fec6f9f-b740-4efb-8694-4bbf528b2bd2",
   "metadata": {},
   "outputs": [
    {
     "name": "stdout",
     "output_type": "stream",
     "text": [
      "[[0 1 2 3 4 5 6 7 8 9]\n",
      " [0 1 2 3 4 5 6 7 8 9]\n",
      " [0 1 2 3 4 5 6 7 8 9]\n",
      " [0 1 2 3 4 5 6 7 8 9]\n",
      " [0 1 2 3 4 5 6 7 8 9]\n",
      " [0 1 2 3 4 5 6 7 8 9]\n",
      " [0 1 2 3 4 5 6 7 8 9]\n",
      " [0 1 2 3 4 5 6 7 8 9]\n",
      " [0 1 2 3 4 5 6 7 8 9]\n",
      " [0 1 2 3 4 5 6 7 8 9]\n",
      " [0 1 2 3 4 5 6 7 8 9]] [[10 10 10 10 10 10 10 10 10 10]\n",
      " [11 11 11 11 11 11 11 11 11 11]\n",
      " [12 12 12 12 12 12 12 12 12 12]\n",
      " [13 13 13 13 13 13 13 13 13 13]\n",
      " [14 14 14 14 14 14 14 14 14 14]\n",
      " [15 15 15 15 15 15 15 15 15 15]\n",
      " [16 16 16 16 16 16 16 16 16 16]\n",
      " [17 17 17 17 17 17 17 17 17 17]\n",
      " [18 18 18 18 18 18 18 18 18 18]\n",
      " [19 19 19 19 19 19 19 19 19 19]\n",
      " [20 20 20 20 20 20 20 20 20 20]]\n",
      "<class 'numpy.ndarray'> <class 'numpy.ndarray'>\n"
     ]
    }
   ],
   "source": [
    "# create two matrices\n",
    "xx, yy = np.meshgrid(x,y)\n",
    "# and print the matrices\n",
    "print(xx, yy)\n",
    "print(type(xx), type(yy))"
   ]
  },
  {
   "cell_type": "code",
   "execution_count": 26,
   "id": "09250713-c517-4ef2-9d8a-082cdf526464",
   "metadata": {},
   "outputs": [],
   "source": [
    "# define the new function\n",
    "def multidim(xx, yy, pi):\n",
    "    '''\n",
    "    This is a two dimensional function.\n",
    "    ================\n",
    "    Input:\n",
    "    xx: array(n,m) np.array\n",
    "    yy: array(n,m) np.array\n",
    "    \n",
    "    Output:\n",
    "    matrix: array(n,m) np.array\n",
    "    '''\n",
    "    \n",
    "    matrix = xx**2*pi+1e2*yy**(1/2)\n",
    "    return(matrix)"
   ]
  },
  {
   "cell_type": "code",
   "execution_count": 35,
   "id": "89a2870c-53ea-4629-9e37-1e78f0421d5d",
   "metadata": {},
   "outputs": [
    {
     "name": "stdout",
     "output_type": "stream",
     "text": [
      "The function output has the type [[316.22776602 319.36935867 328.79413663 344.5020999  366.49324847\n",
      "  394.76758236 429.32510155 470.16580604 517.28969585 570.69677096]\n",
      " [331.66247904 334.80407169 344.22884965 359.93681292 381.92796149\n",
      "  410.20229538 444.75981456 485.60051906 532.72440887 586.13148398]\n",
      " [346.41016151 349.55175417 358.97653213 374.6844954  396.67564397\n",
      "  424.94997785 459.50749704 500.34820154 547.47209134 600.87916645]\n",
      " [360.55512755 363.6967202  373.12149816 388.82946143 410.82061\n",
      "  439.09494389 473.65246308 514.49316757 561.61705738 615.02413249]\n",
      " [374.16573868 377.30733133 386.73210929 402.44007256 424.43122113\n",
      "  452.70555502 487.26307421 528.1037787  575.22766851 628.63474362]\n",
      " [387.29833462 390.43992727 399.86470524 415.5726685  437.56381708\n",
      "  465.83815096 500.39567015 541.23637465 588.36026445 641.76733956]\n",
      " [400.         403.14159265 412.56637061 428.27433388 450.26548246\n",
      "  478.53981634 513.09733553 553.93804003 601.06192983 654.46900494]\n",
      " [412.31056256 415.45215522 424.87693318 440.58489644 462.57604502\n",
      "  490.8503789  525.40789809 566.24860259 613.37249239 666.7795675 ]\n",
      " [424.26406871 427.40566137 436.83043933 452.53840259 474.52955117\n",
      "  502.80388505 537.36140424 578.20210874 625.32599854 678.73307365]\n",
      " [435.88989435 439.03148701 448.45626497 464.16422824 486.15537681\n",
      "  514.42971069 548.98722988 589.82793438 636.95182418 690.35889929]\n",
      " [447.2135955  450.35518815 459.77996611 475.48792938 497.47907796\n",
      "  525.75341184 560.31093103 601.15163553 648.27552533 701.68260044]] and looks so numpy.ndarray[slice(8, -2, None)]\n",
      "The shape of xx is (11, 10), of yy is (11, 10) and of  matrix is (11, 10).\n"
     ]
    }
   ],
   "source": [
    "# print something about arrays\n",
    "print('The function output has the type {} and looks so {}'.format(multidim(xx, yy, P), type(multidim(xx, yy, P))[8:-2:]))\n",
    "print('The shape of xx is {}, of yy is {} and of  matrix is {}.'.format(xx.shape,yy.shape,multidim(xx, yy, P).shape))"
   ]
  },
  {
   "cell_type": "code",
   "execution_count": 15,
   "id": "2a641579-364c-4e69-9f40-58206444e5cf",
   "metadata": {},
   "outputs": [
    {
     "data": {
      "text/plain": [
       "Text(0, 0.5, 'index')"
      ]
     },
     "execution_count": 15,
     "metadata": {},
     "output_type": "execute_result"
    },
    {
     "data": {
      "image/png": "[encoded data removed]",
      "text/plain": [
       "<Figure size 432x288 with 2 Axes>"
      ]
     },
     "metadata": {
      "needs_background": "light"
     },
     "output_type": "display_data"
    }
   ],
   "source": [
    "# plot the new function\n",
    "pmc = plt.pcolormesh(multidim(xx, yy, P))\n",
    "plt.colorbar(pmc)\n",
    "plt.title('2D Functions with $\\pi$', fontsize=18) # Title of the plot\n",
    "plt.xlabel('index', fontsize=12) # Label of the x-axis\n",
    "plt.ylabel('index', fontsize=12) # Label of the y-axis\n",
    "#plt.savefig('2Dfigure.png', dpi=80) # save figure, string is the name and dpi the resolution"
   ]
  },
  {
   "cell_type": "markdown",
   "id": "4d0aaf85-a975-4f85-81cc-d88f738817a5",
   "metadata": {},
   "source": [
    "<a id='Py_Skills'></a>\n",
    "### My Python Skills"
   ]
  },
  {
   "cell_type": "markdown",
   "id": "6bfd49d4-efc0-4f83-80f8-2843299725c0",
   "metadata": {},
   "source": [
    "So far, I have used python mainly for seismic data interpretation. For this, I mainly need the packages obspy and pandas. Pandas allow a simple and clear presentation of time series and obspy provides all classical pre- and post-processing functions for seismic data. Scikit I also know, but I have only used this package to train and test an already existing model. I worked with random forests and tried to detect debris flows and rock falls. I noticed how sensitive the algorithm reacts to the training data set. Unfortunately, I could not figure out how to make my algorithm less sensitive to individual events in the training dataset. The output with a selected training data set turned out to be acceptable. <br>\n",
    "\n",
    "With the plotter, it is difficult to summarize the skills. I am able to create some simple plots and know how to find the commands on the internet that I keep forgetting. Since you often plot time series in seismology, I must admit that I often struggle with the different time formats. <br>\n",
    "\n",
    "What I am very bad at is programming memory efficiently. On the other hand, parallelizing is somewhat familiar to me."
   ]
  },
  {
   "cell_type": "code",
   "execution_count": null,
   "id": "76b9d42c-885b-4d6c-b527-9ba9f3353f18",
   "metadata": {},
   "outputs": [],
   "source": []
  }
 ],
 "metadata": {
  "kernelspec": {
   "display_name": "Python 3 (ipykernel)",
   "language": "python",
   "name": "python3"
  },
  "language_info": {
   "codemirror_mode": {
    "name": "ipython",
    "version": 3
   },
   "file_extension": ".py",
   "mimetype": "text/x-python",
   "name": "python",
   "nbconvert_exporter": "python",
   "pygments_lexer": "ipython3",
   "version": "3.8.13"
  }
 },
 "nbformat": 4,
 "nbformat_minor": 5
}
